{
 "cells": [
  {
   "cell_type": "code",
   "execution_count": null,
   "id": "6c94b747",
   "metadata": {},
   "outputs": [],
   "source": [
    "if codition:\n",
    "    statement\n",
    "elif condition:\n",
    "    statement 2\n",
    "else:\n",
    "    statement 1\n",
    "    "
   ]
  },
  {
   "attachments": {
    "image.png": {
     "image/png": "[encoded data removed]"
    }
   },
   "cell_type": "markdown",
   "id": "fc805a32",
   "metadata": {},
   "source": [
    "![image.png](attachment:image.png)\n"
   ]
  },
  {
   "cell_type": "code",
   "execution_count": 2,
   "id": "c4504009",
   "metadata": {},
   "outputs": [
    {
     "data": {
      "text/plain": [
       "['False',\n",
       " 'None',\n",
       " 'True',\n",
       " '__peg_parser__',\n",
       " 'and',\n",
       " 'as',\n",
       " 'assert',\n",
       " 'async',\n",
       " 'await',\n",
       " 'break',\n",
       " 'class',\n",
       " 'continue',\n",
       " 'def',\n",
       " 'del',\n",
       " 'elif',\n",
       " 'else',\n",
       " 'except',\n",
       " 'finally',\n",
       " 'for',\n",
       " 'from',\n",
       " 'global',\n",
       " 'if',\n",
       " 'import',\n",
       " 'in',\n",
       " 'is',\n",
       " 'lambda',\n",
       " 'nonlocal',\n",
       " 'not',\n",
       " 'or',\n",
       " 'pass',\n",
       " 'raise',\n",
       " 'return',\n",
       " 'try',\n",
       " 'while',\n",
       " 'with',\n",
       " 'yield']"
      ]
     },
     "execution_count": 2,
     "metadata": {},
     "output_type": "execute_result"
    }
   ],
   "source": [
    "import keyword\n",
    "keyword.kwlist"
   ]
  },
  {
   "cell_type": "code",
   "execution_count": 6,
   "id": "652618f9",
   "metadata": {},
   "outputs": [
    {
     "name": "stdout",
     "output_type": "stream",
     "text": [
      "odd\n"
     ]
    }
   ],
   "source": [
    "n = 5\n",
    "if n%2==0:\n",
    "    print(\"Even\")\n",
    "else:\n",
    "    print(\"odd\")"
   ]
  },
  {
   "cell_type": "code",
   "execution_count": 10,
   "id": "e25bc6bc",
   "metadata": {},
   "outputs": [
    {
     "name": "stdout",
     "output_type": "stream",
     "text": [
      "Equal to zero\n"
     ]
    }
   ],
   "source": [
    "n = 0\n",
    "if n >0:\n",
    "    print(\"Positive\")\n",
    "elif n == 0:\n",
    "    print(\"Equal to zero\")\n",
    "else:\n",
    "    print(\"Negative\")"
   ]
  },
  {
   "cell_type": "code",
   "execution_count": null,
   "id": "c1123ca7",
   "metadata": {},
   "outputs": [],
   "source": [
    "and or not"
   ]
  },
  {
   "cell_type": "code",
   "execution_count": 12,
   "id": "7d05aec8",
   "metadata": {},
   "outputs": [],
   "source": [
    "n1 = 5\n",
    "n2 = 3\n",
    "n3 = 6"
   ]
  },
  {
   "cell_type": "code",
   "execution_count": 13,
   "id": "8fb9528f",
   "metadata": {},
   "outputs": [
    {
     "name": "stdout",
     "output_type": "stream",
     "text": [
      "n3 is gt\n"
     ]
    }
   ],
   "source": [
    "if n1>n2:\n",
    "    if n1>n3:\n",
    "        print(\"n1 is gt\")\n",
    "    else:\n",
    "        print(\"n3 is gt\")\n",
    "else:\n",
    "    if n2 >n3:\n",
    "        print(\"n2 is gt\")\n",
    "    \n",
    "    else:\n",
    "        print(\"n3 is gt\")"
   ]
  },
  {
   "cell_type": "code",
   "execution_count": 15,
   "id": "83b87640",
   "metadata": {},
   "outputs": [
    {
     "data": {
      "text/plain": [
       "range(1, 6)"
      ]
     },
     "execution_count": 15,
     "metadata": {},
     "output_type": "execute_result"
    }
   ],
   "source": [
    "range(1,6,1)"
   ]
  },
  {
   "cell_type": "code",
   "execution_count": 17,
   "id": "64942f54",
   "metadata": {},
   "outputs": [
    {
     "name": "stdout",
     "output_type": "stream",
     "text": [
      "0\n",
      "1\n",
      "2\n",
      "3\n",
      "4\n"
     ]
    }
   ],
   "source": [
    "for i in range(5):\n",
    "    print(i)"
   ]
  },
  {
   "cell_type": "code",
   "execution_count": 18,
   "id": "3d9734c9",
   "metadata": {},
   "outputs": [
    {
     "name": "stdout",
     "output_type": "stream",
     "text": [
      "5\n",
      "4\n",
      "3\n",
      "2\n",
      "1\n"
     ]
    }
   ],
   "source": [
    "for i in range(5,0,-1):\n",
    "    print(i)"
   ]
  },
  {
   "cell_type": "code",
   "execution_count": 22,
   "id": "b4d4abdf",
   "metadata": {},
   "outputs": [
    {
     "name": "stdout",
     "output_type": "stream",
     "text": [
      "15\n"
     ]
    }
   ],
   "source": [
    "n = 5\n",
    "s = 0\n",
    "for i in range(1,n+1):\n",
    "    s+=i\n",
    "print(s)"
   ]
  },
  {
   "cell_type": "code",
   "execution_count": 23,
   "id": "d3dfcbc0",
   "metadata": {},
   "outputs": [
    {
     "name": "stdout",
     "output_type": "stream",
     "text": [
      "0 0\n",
      "0 1\n",
      "0 2\n",
      "1 0\n",
      "1 1\n",
      "1 2\n",
      "2 0\n",
      "2 1\n",
      "2 2\n"
     ]
    }
   ],
   "source": [
    "for i in range(3):\n",
    "    for j in range(3):\n",
    "        print(i,j)"
   ]
  },
  {
   "cell_type": "code",
   "execution_count": null,
   "id": "a17e5018",
   "metadata": {},
   "outputs": [],
   "source": [
    "* * * *\n",
    "* * * *\n",
    "* * * *\n",
    "* * * *"
   ]
  },
  {
   "cell_type": "code",
   "execution_count": 25,
   "id": "ba0488dc",
   "metadata": {},
   "outputs": [
    {
     "name": "stdout",
     "output_type": "stream",
     "text": [
      "hello hi\n"
     ]
    }
   ],
   "source": [
    "print(\"hello\",end=\" \")\n",
    "print(\"hi\")"
   ]
  },
  {
   "cell_type": "code",
   "execution_count": 61,
   "id": "c0afbb13",
   "metadata": {},
   "outputs": [
    {
     "name": "stdout",
     "output_type": "stream",
     "text": [
      "Enter any value 6\n",
      "* * * * * * \n",
      "* * * * * * \n",
      "* * * * * * \n",
      "* * * * * * \n",
      "* * * * * * \n",
      "* * * * * * \n"
     ]
    }
   ],
   "source": [
    "a = int(input(\"Enter any value \"))\n",
    "for row in range(a):\n",
    "    for col in range(a):\n",
    "        print('*',end=\" \")\n",
    "    print()"
   ]
  },
  {
   "cell_type": "code",
   "execution_count": null,
   "id": "72081ff8",
   "metadata": {},
   "outputs": [],
   "source": [
    "*\n",
    "* *\n",
    "* * *\n",
    "* * * *"
   ]
  },
  {
   "cell_type": "code",
   "execution_count": 27,
   "id": "47674316",
   "metadata": {},
   "outputs": [
    {
     "name": "stdout",
     "output_type": "stream",
     "text": [
      "* \n",
      "* * \n",
      "* * * \n",
      "* * * * \n"
     ]
    }
   ],
   "source": [
    "for i in range(4):\n",
    "    for j in range(i+1):\n",
    "        print(\"*\",end=\" \")\n",
    "    print()"
   ]
  },
  {
   "cell_type": "code",
   "execution_count": 36,
   "id": "eb63ec01",
   "metadata": {
    "scrolled": true
   },
   "outputs": [
    {
     "name": "stdout",
     "output_type": "stream",
     "text": [
      "   * \n",
      "  * * \n",
      " * * * \n",
      "* * * * \n"
     ]
    }
   ],
   "source": [
    "n = 4\n",
    "m =n-1\n",
    "for i in range(n):\n",
    "    for j in range(m,0,-1):\n",
    "        print(end=\" \")\n",
    "    for k in range(i+1):\n",
    "        print(\"*\",end=\" \")\n",
    "    print()\n",
    "    m-=1"
   ]
  },
  {
   "cell_type": "code",
   "execution_count": null,
   "id": "2248b7a4",
   "metadata": {},
   "outputs": [],
   "source": []
  },
  {
   "cell_type": "code",
   "execution_count": 38,
   "id": "f8fbc37c",
   "metadata": {},
   "outputs": [
    {
     "name": "stdout",
     "output_type": "stream",
     "text": [
      " *** \n",
      "*   *\n",
      "*   *\n",
      "*****\n",
      "*   *\n",
      "*   *\n",
      "*   *\n"
     ]
    }
   ],
   "source": [
    "for row in range(7):\n",
    "    for col in range(5):\n",
    "        if ((col==0 or col==4)and row!=0):\n",
    "            print(\"*\",end=\"\")\n",
    "        elif ((row==0 or row==3) and (col >0 and col <4)):\n",
    "            print(\"*\",end=\"\")\n",
    "        else:\n",
    "            print(end=\" \")\n",
    "    print()"
   ]
  },
  {
   "cell_type": "code",
   "execution_count": 42,
   "id": "89539499",
   "metadata": {},
   "outputs": [
    {
     "name": "stdout",
     "output_type": "stream",
     "text": [
      "   1\n",
      "  212\n",
      " 32123\n",
      "4321234\n"
     ]
    }
   ],
   "source": [
    "n= 4\n",
    "m = n-1\n",
    "for i in range(1,n+1):\n",
    "    for j in range(m,0,-1):\n",
    "        print(end=\" \")\n",
    "    for k in range(i,0,-1):\n",
    "        print(k,end=\"\")\n",
    "    for p in range(2,i+1):\n",
    "        print(p,end=\"\")\n",
    "    print()\n",
    "    m-=1"
   ]
  },
  {
   "cell_type": "code",
   "execution_count": 43,
   "id": "c4054aea",
   "metadata": {},
   "outputs": [
    {
     "name": "stdout",
     "output_type": "stream",
     "text": [
      "   1\n",
      "  212\n",
      " 32123\n",
      "4321234\n"
     ]
    }
   ],
   "source": [
    "n= 4\n",
    "m = n-1\n",
    "for i in range(1,n+1):\n",
    "    for j in range(1,n-i+1):\n",
    "        print(end=\" \")\n",
    "    for k in range(i,0,-1):\n",
    "        print(k,end=\"\")\n",
    "    for p in range(2,i+1):\n",
    "        print(p,end=\"\")\n",
    "    print()"
   ]
  },
  {
   "cell_type": "code",
   "execution_count": 46,
   "id": "ae729c5a",
   "metadata": {},
   "outputs": [
    {
     "name": "stdout",
     "output_type": "stream",
     "text": [
      "0\n",
      "2\n",
      "4\n",
      "6\n",
      "8\n",
      "10\n",
      "Rest of the code\n"
     ]
    }
   ],
   "source": [
    "i = 0\n",
    "while i <=10:\n",
    "    print(i)\n",
    "    i+=2\n",
    "print(\"Rest of the code\")"
   ]
  },
  {
   "cell_type": "code",
   "execution_count": 45,
   "id": "ccbb9670",
   "metadata": {},
   "outputs": [
    {
     "name": "stdout",
     "output_type": "stream",
     "text": [
      "10\n",
      "9\n",
      "8\n",
      "7\n",
      "6\n",
      "5\n",
      "4\n",
      "3\n",
      "2\n",
      "1\n",
      "Rest of the code\n"
     ]
    }
   ],
   "source": [
    "i = 10\n",
    "while i >0:\n",
    "    print(i)\n",
    "    i-=1\n",
    "print(\"Rest of the code\")"
   ]
  },
  {
   "cell_type": "code",
   "execution_count": 47,
   "id": "3789cb88",
   "metadata": {},
   "outputs": [
    {
     "name": "stdout",
     "output_type": "stream",
     "text": [
      "0\n",
      "1\n",
      "2\n",
      "3\n",
      "4\n",
      "Over\n"
     ]
    }
   ],
   "source": [
    "for i in range(5):\n",
    "    print(i)\n",
    "else:\n",
    "    print('Over')"
   ]
  },
  {
   "cell_type": "code",
   "execution_count": 48,
   "id": "b4b05765",
   "metadata": {},
   "outputs": [
    {
     "name": "stdout",
     "output_type": "stream",
     "text": [
      "10\n",
      "9\n",
      "8\n",
      "7\n",
      "6\n",
      "5\n",
      "4\n",
      "3\n",
      "2\n",
      "1\n",
      "Rest of the code\n"
     ]
    }
   ],
   "source": [
    "i = 10\n",
    "while i >0:\n",
    "    print(i)\n",
    "    i-=1\n",
    "else:\n",
    "    print(\"Rest of the code\")"
   ]
  },
  {
   "cell_type": "code",
   "execution_count": 49,
   "id": "ca0f0c10",
   "metadata": {},
   "outputs": [
    {
     "name": "stdout",
     "output_type": "stream",
     "text": [
      "Sum of  5 Natural number is 15\n"
     ]
    }
   ],
   "source": [
    "n = 5\n",
    "s = 0\n",
    "i = 0\n",
    "while i <=n:\n",
    "    s+=i\n",
    "    i+=1\n",
    "print(\"Sum of \",n,\"Natural number is\",s)"
   ]
  },
  {
   "cell_type": "code",
   "execution_count": 54,
   "id": "866daabf",
   "metadata": {},
   "outputs": [
    {
     "name": "stdout",
     "output_type": "stream",
     "text": [
      "1\n",
      "2\n",
      "3\n",
      "4\n",
      "6\n",
      "7\n",
      "8\n",
      "9\n",
      "10\n",
      "11\n"
     ]
    }
   ],
   "source": [
    "i = 0\n",
    "while i <=10:\n",
    "    i+=1\n",
    "    if i==5:\n",
    "        continue\n",
    "    else:\n",
    "        print(i)\n",
    "    "
   ]
  },
  {
   "cell_type": "code",
   "execution_count": 55,
   "id": "1a6a6ca4",
   "metadata": {},
   "outputs": [
    {
     "name": "stdout",
     "output_type": "stream",
     "text": [
      "Outter Loop 1\n",
      "Inside loop 1\n",
      "Inside loop 2\n",
      "Inside loop 3\n",
      "Inside loop 4\n",
      "Inside loop 5\n",
      "Outter Loop 2\n",
      "Inside loop 1\n",
      "Inside loop 2\n",
      "Inside loop 3\n",
      "Inside loop 4\n",
      "Inside loop 5\n",
      "Outter Loop 3\n",
      "Inside loop 1\n",
      "Inside loop 2\n",
      "Inside loop 3\n",
      "Inside loop 4\n",
      "Inside loop 5\n",
      "rest of the code\n"
     ]
    }
   ],
   "source": [
    "i = 1\n",
    "while i <=3:\n",
    "    print(\"Outter Loop\",i)\n",
    "    i+=1\n",
    "    j=1\n",
    "    while j <=5:\n",
    "        print(\"Inside loop\",j)\n",
    "        j+=1\n",
    "print(\"rest of the code\")"
   ]
  },
  {
   "cell_type": "code",
   "execution_count": 56,
   "id": "3692904d",
   "metadata": {},
   "outputs": [
    {
     "name": "stdout",
     "output_type": "stream",
     "text": [
      "Enter any value 4\n"
     ]
    }
   ],
   "source": [
    "a = int(input(\"Enter any value \"))"
   ]
  },
  {
   "cell_type": "code",
   "execution_count": 57,
   "id": "9cc71316",
   "metadata": {},
   "outputs": [
    {
     "name": "stdout",
     "output_type": "stream",
     "text": [
      "4\n"
     ]
    }
   ],
   "source": [
    "print(a)"
   ]
  },
  {
   "cell_type": "code",
   "execution_count": 58,
   "id": "ddca58cd",
   "metadata": {},
   "outputs": [
    {
     "data": {
      "text/plain": [
       "str"
      ]
     },
     "execution_count": 58,
     "metadata": {},
     "output_type": "execute_result"
    }
   ],
   "source": [
    "type(a)"
   ]
  },
  {
   "cell_type": "code",
   "execution_count": 64,
   "id": "38bcb861",
   "metadata": {},
   "outputs": [],
   "source": [
    "a=5543544253620352030.25456"
   ]
  },
  {
   "cell_type": "code",
   "execution_count": 65,
   "id": "ddeb48e0",
   "metadata": {},
   "outputs": [
    {
     "data": {
      "text/plain": [
       "float"
      ]
     },
     "execution_count": 65,
     "metadata": {},
     "output_type": "execute_result"
    }
   ],
   "source": [
    "type(a)"
   ]
  },
  {
   "cell_type": "code",
   "execution_count": 66,
   "id": "7cb5f3b7",
   "metadata": {},
   "outputs": [],
   "source": [
    "a = 5"
   ]
  },
  {
   "cell_type": "code",
   "execution_count": 67,
   "id": "81964045",
   "metadata": {},
   "outputs": [],
   "source": [
    "a = 'Five'"
   ]
  },
  {
   "cell_type": "markdown",
   "id": "2443298a",
   "metadata": {},
   "source": [
    "# What is String in Python?\n",
    "A string is a sequence of characters.\n",
    "\n",
    "A character is simply a symbol. For example, the English language has 26 characters.\n",
    "\n",
    "Computers do not deal with characters, they deal with numbers (binary). Even though you may see characters on your screen, internally it is stored and manipulated as a combination of 0s and 1s.\n",
    "\n",
    "This conversion of character to a number is called encoding, and the reverse process is decoding. ASCII and Unicode are some of the popular encodings used.\n",
    "\n",
    "In Python, a string is a sequence of Unicode characters. Unicode was introduced to include every character in all languages and bring uniformity in encoding. You can learn about Unicode from Python Unicode."
   ]
  },
  {
   "cell_type": "code",
   "execution_count": 68,
   "id": "7eb3deeb",
   "metadata": {},
   "outputs": [
    {
     "name": "stdout",
     "output_type": "stream",
     "text": [
      "Hello\n",
      "Hello\n",
      "Hello\n",
      "Hello, welcome to\n",
      "           the world of Python\n"
     ]
    }
   ],
   "source": [
    "# defining strings in Python\n",
    "# all of the following are equivalent\n",
    "my_string = 'Hello'\n",
    "print(my_string)\n",
    "\n",
    "my_string = \"Hello\"\n",
    "print(my_string)\n",
    "\n",
    "my_string = '''Hello'''\n",
    "print(my_string)\n",
    "\n",
    "# triple quotes string can extend multiple lines\n",
    "my_string = \"\"\"Hello, welcome to\n",
    "           the world of Python\"\"\"\n",
    "print(my_string)"
   ]
  },
  {
   "cell_type": "code",
   "execution_count": 71,
   "id": "1448f00f",
   "metadata": {},
   "outputs": [],
   "source": [
    "# s1 = \"Hello, welcome to\n",
    "#            the world of Python\""
   ]
  },
  {
   "cell_type": "code",
   "execution_count": 72,
   "id": "de5386d9",
   "metadata": {},
   "outputs": [],
   "source": [
    "a = \"Brillica\""
   ]
  },
  {
   "cell_type": "code",
   "execution_count": 73,
   "id": "c7343475",
   "metadata": {},
   "outputs": [
    {
     "data": {
      "text/plain": [
       "'B'"
      ]
     },
     "execution_count": 73,
     "metadata": {},
     "output_type": "execute_result"
    }
   ],
   "source": [
    "a[0]"
   ]
  },
  {
   "cell_type": "code",
   "execution_count": 74,
   "id": "be6e7024",
   "metadata": {},
   "outputs": [
    {
     "data": {
      "text/plain": [
       "'a'"
      ]
     },
     "execution_count": 74,
     "metadata": {},
     "output_type": "execute_result"
    }
   ],
   "source": [
    "a[-1]"
   ]
  },
  {
   "cell_type": "code",
   "execution_count": 75,
   "id": "3b28fcc0",
   "metadata": {},
   "outputs": [
    {
     "data": {
      "text/plain": [
       "8"
      ]
     },
     "execution_count": 75,
     "metadata": {},
     "output_type": "execute_result"
    }
   ],
   "source": [
    "len(a)"
   ]
  },
  {
   "cell_type": "code",
   "execution_count": 76,
   "id": "49ec79df",
   "metadata": {},
   "outputs": [
    {
     "data": {
      "text/plain": [
       "'B'"
      ]
     },
     "execution_count": 76,
     "metadata": {},
     "output_type": "execute_result"
    }
   ],
   "source": [
    "a[-8]"
   ]
  },
  {
   "cell_type": "code",
   "execution_count": 78,
   "id": "18460aaa",
   "metadata": {},
   "outputs": [],
   "source": [
    "# a[8]"
   ]
  },
  {
   "cell_type": "code",
   "execution_count": 80,
   "id": "1d397cfe",
   "metadata": {},
   "outputs": [],
   "source": [
    "# a[1.0]"
   ]
  },
  {
   "cell_type": "code",
   "execution_count": null,
   "id": "f1ec0abb",
   "metadata": {},
   "outputs": [],
   "source": []
  },
  {
   "cell_type": "code",
   "execution_count": 81,
   "id": "7a7b675c",
   "metadata": {},
   "outputs": [
    {
     "data": {
      "text/plain": [
       "'Brillica'"
      ]
     },
     "execution_count": 81,
     "metadata": {},
     "output_type": "execute_result"
    }
   ],
   "source": [
    "a"
   ]
  },
  {
   "cell_type": "code",
   "execution_count": 82,
   "id": "f22fa0d3",
   "metadata": {},
   "outputs": [
    {
     "data": {
      "text/plain": [
       "'ri'"
      ]
     },
     "execution_count": 82,
     "metadata": {},
     "output_type": "execute_result"
    }
   ],
   "source": [
    "a[1:3]"
   ]
  },
  {
   "cell_type": "code",
   "execution_count": 86,
   "id": "e451882f",
   "metadata": {},
   "outputs": [
    {
     "data": {
      "text/plain": [
       "'ac'"
      ]
     },
     "execution_count": 86,
     "metadata": {},
     "output_type": "execute_result"
    }
   ],
   "source": [
    "a[-1:-3:-1]"
   ]
  },
  {
   "cell_type": "code",
   "execution_count": 88,
   "id": "44f4666b",
   "metadata": {},
   "outputs": [
    {
     "data": {
      "text/plain": [
       "'acillirB'"
      ]
     },
     "execution_count": 88,
     "metadata": {},
     "output_type": "execute_result"
    }
   ],
   "source": [
    "a[::-1]"
   ]
  },
  {
   "cell_type": "code",
   "execution_count": 91,
   "id": "cdba4491",
   "metadata": {},
   "outputs": [],
   "source": [
    "# a[5] =\"e\""
   ]
  },
  {
   "cell_type": "code",
   "execution_count": 92,
   "id": "399ef6da",
   "metadata": {},
   "outputs": [],
   "source": [
    "a = \"Brellica\""
   ]
  },
  {
   "cell_type": "code",
   "execution_count": 93,
   "id": "431d1bc8",
   "metadata": {},
   "outputs": [
    {
     "data": {
      "text/plain": [
       "'Brellica'"
      ]
     },
     "execution_count": 93,
     "metadata": {},
     "output_type": "execute_result"
    }
   ],
   "source": [
    "a"
   ]
  },
  {
   "cell_type": "code",
   "execution_count": 94,
   "id": "b12fd824",
   "metadata": {},
   "outputs": [],
   "source": [
    "s1 = \"Hello\"\n",
    "s2 = \" World!\""
   ]
  },
  {
   "cell_type": "code",
   "execution_count": 95,
   "id": "a114c268",
   "metadata": {},
   "outputs": [
    {
     "name": "stdout",
     "output_type": "stream",
     "text": [
      "Hello World!\n"
     ]
    }
   ],
   "source": [
    "print(s1+s2)"
   ]
  },
  {
   "cell_type": "code",
   "execution_count": 97,
   "id": "bc461e2e",
   "metadata": {},
   "outputs": [
    {
     "name": "stdout",
     "output_type": "stream",
     "text": [
      "Ha Ha Ha \n"
     ]
    }
   ],
   "source": [
    "print(\"Ha \"*3)"
   ]
  },
  {
   "cell_type": "code",
   "execution_count": 99,
   "id": "a1faffdf",
   "metadata": {},
   "outputs": [],
   "source": [
    "a = 'Hello ''World!'"
   ]
  },
  {
   "cell_type": "code",
   "execution_count": 100,
   "id": "1fa6bece",
   "metadata": {},
   "outputs": [
    {
     "data": {
      "text/plain": [
       "'Hello World!'"
      ]
     },
     "execution_count": 100,
     "metadata": {},
     "output_type": "execute_result"
    }
   ],
   "source": [
    "a"
   ]
  },
  {
   "cell_type": "code",
   "execution_count": 101,
   "id": "1b1b46be",
   "metadata": {},
   "outputs": [],
   "source": [
    "a = ('Hello '\n",
    "    'World!')"
   ]
  },
  {
   "cell_type": "code",
   "execution_count": 102,
   "id": "a638bf1b",
   "metadata": {},
   "outputs": [
    {
     "data": {
      "text/plain": [
       "'Hello World!'"
      ]
     },
     "execution_count": 102,
     "metadata": {},
     "output_type": "execute_result"
    }
   ],
   "source": [
    "a"
   ]
  },
  {
   "cell_type": "code",
   "execution_count": 103,
   "id": "2adc1913",
   "metadata": {},
   "outputs": [
    {
     "name": "stdout",
     "output_type": "stream",
     "text": [
      "H\n",
      "e\n",
      "l\n",
      "l\n",
      "o\n",
      " \n",
      "W\n",
      "o\n",
      "r\n",
      "l\n",
      "d\n",
      "!\n"
     ]
    }
   ],
   "source": [
    "for i in 'Hello World!':\n",
    "    print(i)"
   ]
  },
  {
   "cell_type": "code",
   "execution_count": 104,
   "id": "2bae6c19",
   "metadata": {},
   "outputs": [],
   "source": [
    "s1 = 'Hello World!'"
   ]
  },
  {
   "cell_type": "code",
   "execution_count": 106,
   "id": "85bb13e4",
   "metadata": {},
   "outputs": [
    {
     "name": "stdout",
     "output_type": "stream",
     "text": [
      "H\n",
      "e\n",
      "l\n",
      "l\n",
      "o\n",
      " \n",
      "W\n",
      "o\n",
      "r\n",
      "l\n",
      "d\n",
      "!\n"
     ]
    }
   ],
   "source": [
    "for j in range(len(s1)):\n",
    "    print(s1[j])"
   ]
  },
  {
   "cell_type": "code",
   "execution_count": 107,
   "id": "935e5e56",
   "metadata": {},
   "outputs": [
    {
     "name": "stdout",
     "output_type": "stream",
     "text": [
      "3 letters found\n"
     ]
    }
   ],
   "source": [
    "# Iterating through a string\n",
    "count = 0\n",
    "for letter in 'Hello World':\n",
    "    if(letter == 'l'):\n",
    "        count += 1\n",
    "print(count,'letters found')"
   ]
  },
  {
   "cell_type": "code",
   "execution_count": 108,
   "id": "9848fcfd",
   "metadata": {},
   "outputs": [
    {
     "data": {
      "text/plain": [
       "True"
      ]
     },
     "execution_count": 108,
     "metadata": {},
     "output_type": "execute_result"
    }
   ],
   "source": [
    "\"a\" in \"program\""
   ]
  },
  {
   "cell_type": "code",
   "execution_count": 109,
   "id": "26121d3e",
   "metadata": {},
   "outputs": [
    {
     "data": {
      "text/plain": [
       "True"
      ]
     },
     "execution_count": 109,
     "metadata": {},
     "output_type": "execute_result"
    }
   ],
   "source": [
    "\"z\" not in \"program\""
   ]
  },
  {
   "cell_type": "code",
   "execution_count": 110,
   "id": "23d9d15c",
   "metadata": {},
   "outputs": [
    {
     "name": "stdout",
     "output_type": "stream",
     "text": [
      "At index  0  Value is  H\n",
      "At index  1  Value is  e\n",
      "At index  2  Value is  l\n",
      "At index  3  Value is  l\n",
      "At index  4  Value is  o\n",
      "At index  5  Value is   \n",
      "At index  6  Value is  W\n",
      "At index  7  Value is  o\n",
      "At index  8  Value is  r\n",
      "At index  9  Value is  l\n",
      "At index  10  Value is  d\n",
      "At index  11  Value is  !\n"
     ]
    }
   ],
   "source": [
    "for j in range(len(s1)):\n",
    "    print(\"At index \",j,\" Value is \",s1[j])"
   ]
  },
  {
   "cell_type": "code",
   "execution_count": 113,
   "id": "baaefe79",
   "metadata": {},
   "outputs": [
    {
     "name": "stdout",
     "output_type": "stream",
     "text": [
      "At index  0  Value is  H\n",
      "At index  1  Value is  e\n",
      "At index  2  Value is  l\n",
      "At index  3  Value is  l\n",
      "At index  4  Value is  o\n",
      "At index  5  Value is   \n",
      "At index  6  Value is  W\n",
      "At index  7  Value is  o\n",
      "At index  8  Value is  r\n",
      "At index  9  Value is  l\n",
      "At index  10  Value is  d\n",
      "At index  11  Value is  !\n"
     ]
    }
   ],
   "source": [
    "for j,k in enumerate(s1):\n",
    "    print(\"At index \",j,\" Value is \",k)"
   ]
  },
  {
   "cell_type": "code",
   "execution_count": 115,
   "id": "b628a3f1",
   "metadata": {},
   "outputs": [
    {
     "name": "stdout",
     "output_type": "stream",
     "text": [
      "He said, \"What's there?\"\n"
     ]
    }
   ],
   "source": [
    "print(\"He said, \\\"What's there?\\\"\")"
   ]
  },
  {
   "cell_type": "code",
   "execution_count": null,
   "id": "5f571402",
   "metadata": {},
   "outputs": [],
   "source": [
    "He said, \"What's there?\""
   ]
  },
  {
   "attachments": {
    "image.png": {
     "image/png": "[encoded data removed]"
    }
   },
   "cell_type": "markdown",
   "id": "d3e67cc0",
   "metadata": {},
   "source": [
    "![image.png](attachment:image.png)"
   ]
  },
  {
   "cell_type": "code",
   "execution_count": 116,
   "id": "39b668f9",
   "metadata": {},
   "outputs": [
    {
     "name": "stdout",
     "output_type": "stream",
     "text": [
      "C:\\Python32\\Lib\n"
     ]
    }
   ],
   "source": [
    " print(\"C:\\\\Python32\\\\Lib\")"
   ]
  },
  {
   "cell_type": "code",
   "execution_count": 117,
   "id": "f83ebcd6",
   "metadata": {},
   "outputs": [
    {
     "name": "stdout",
     "output_type": "stream",
     "text": [
      "This is HEX representation\n"
     ]
    }
   ],
   "source": [
    "print(\"This is \\x48\\x45\\x58 representation\")"
   ]
  },
  {
   "cell_type": "code",
   "execution_count": 118,
   "id": "5e462abf",
   "metadata": {},
   "outputs": [
    {
     "name": "stdout",
     "output_type": "stream",
     "text": [
      "\n",
      "--- Default Order ---\n",
      "John, Bill and Sean\n",
      "\n",
      "--- Positional Order ---\n",
      "Bill, John and Sean\n",
      "\n",
      "--- Keyword Order ---\n",
      "Sean, Bill and John\n"
     ]
    }
   ],
   "source": [
    "# Python string format() method\n",
    "\n",
    "# default(implicit) order\n",
    "default_order = \"{}, {} and {}\".format('John','Bill','Sean')\n",
    "print('\\n--- Default Order ---')\n",
    "print(default_order)\n",
    "\n",
    "# order using positional argument\n",
    "positional_order = \"{1}, {0} and {2}\".format('John','Bill','Sean')\n",
    "print('\\n--- Positional Order ---')\n",
    "print(positional_order)\n",
    "\n",
    "# order using keyword argument\n",
    "keyword_order = \"{s}, {b} and {j}\".format(j='John',b='Bill',s='Sean')\n",
    "print('\\n--- Keyword Order ---')\n",
    "print(keyword_order)"
   ]
  },
  {
   "cell_type": "code",
   "execution_count": 119,
   "id": "b88f3c9b",
   "metadata": {},
   "outputs": [
    {
     "data": {
      "text/plain": [
       "'Binary representation of 12 is 1100'"
      ]
     },
     "execution_count": 119,
     "metadata": {},
     "output_type": "execute_result"
    }
   ],
   "source": [
    "\"Binary representation of {0} is {0:b}\".format(12)"
   ]
  },
  {
   "cell_type": "code",
   "execution_count": 120,
   "id": "153e02b2",
   "metadata": {},
   "outputs": [
    {
     "data": {
      "text/plain": [
       "'Exponent representation: 1.566345e+03'"
      ]
     },
     "execution_count": 120,
     "metadata": {},
     "output_type": "execute_result"
    }
   ],
   "source": [
    "\"Exponent representation: {0:e}\".format(1566.345)"
   ]
  },
  {
   "cell_type": "code",
   "execution_count": 121,
   "id": "f30bb50a",
   "metadata": {},
   "outputs": [
    {
     "data": {
      "text/plain": [
       "'One third is: 0.333'"
      ]
     },
     "execution_count": 121,
     "metadata": {},
     "output_type": "execute_result"
    }
   ],
   "source": [
    "\"One third is: {0:.3f}\".format(1/3)"
   ]
  },
  {
   "cell_type": "code",
   "execution_count": 122,
   "id": "06dc61f9",
   "metadata": {},
   "outputs": [
    {
     "data": {
      "text/plain": [
       "'|butter    |  bread   |       ham|'"
      ]
     },
     "execution_count": 122,
     "metadata": {},
     "output_type": "execute_result"
    }
   ],
   "source": [
    "\"|{:<10}|{:^10}|{:>10}|\".format('butter','bread','ham')"
   ]
  },
  {
   "cell_type": "code",
   "execution_count": 123,
   "id": "26b07eee",
   "metadata": {},
   "outputs": [
    {
     "name": "stdout",
     "output_type": "stream",
     "text": [
      "The value of x is 12.35\n"
     ]
    }
   ],
   "source": [
    "x = 12.3456789\n",
    "print('The value of x is %3.2f' %x)"
   ]
  },
  {
   "cell_type": "code",
   "execution_count": 126,
   "id": "52964e53",
   "metadata": {},
   "outputs": [],
   "source": [
    "x= \"hello\""
   ]
  },
  {
   "cell_type": "code",
   "execution_count": 128,
   "id": "a5c14496",
   "metadata": {},
   "outputs": [
    {
     "data": {
      "text/plain": [
       "'hello'"
      ]
     },
     "execution_count": 128,
     "metadata": {},
     "output_type": "execute_result"
    }
   ],
   "source": [
    "x"
   ]
  },
  {
   "cell_type": "code",
   "execution_count": 129,
   "id": "5f0bb8f3",
   "metadata": {},
   "outputs": [
    {
     "data": {
      "text/plain": [
       "'HELLO'"
      ]
     },
     "execution_count": 129,
     "metadata": {},
     "output_type": "execute_result"
    }
   ],
   "source": [
    "x.upper()"
   ]
  },
  {
   "cell_type": "code",
   "execution_count": 130,
   "id": "a2a433f6",
   "metadata": {},
   "outputs": [
    {
     "data": {
      "text/plain": [
       "['This', 'will', 'split', 'all', 'words', 'into', 'a', 'list']"
      ]
     },
     "execution_count": 130,
     "metadata": {},
     "output_type": "execute_result"
    }
   ],
   "source": [
    " \"This will split all words into a list\".split()"
   ]
  },
  {
   "cell_type": "code",
   "execution_count": 131,
   "id": "2ee65620",
   "metadata": {},
   "outputs": [
    {
     "data": {
      "text/plain": [
       "'This will join all words into a string'"
      ]
     },
     "execution_count": 131,
     "metadata": {},
     "output_type": "execute_result"
    }
   ],
   "source": [
    "' '.join(['This', 'will', 'join', 'all', 'words', 'into', 'a', 'string'])"
   ]
  },
  {
   "cell_type": "code",
   "execution_count": 132,
   "id": "efde1904",
   "metadata": {},
   "outputs": [
    {
     "data": {
      "text/plain": [
       "7"
      ]
     },
     "execution_count": 132,
     "metadata": {},
     "output_type": "execute_result"
    }
   ],
   "source": [
    "'Happy New Year'.find('ew')"
   ]
  },
  {
   "cell_type": "code",
   "execution_count": 133,
   "id": "9b2d5306",
   "metadata": {},
   "outputs": [
    {
     "data": {
      "text/plain": [
       "'Brilliant New Year'"
      ]
     },
     "execution_count": 133,
     "metadata": {},
     "output_type": "execute_result"
    }
   ],
   "source": [
    "'Happy New Year'.replace('Happy','Brilliant')"
   ]
  },
  {
   "cell_type": "code",
   "execution_count": null,
   "id": "1765a57b",
   "metadata": {},
   "outputs": [],
   "source": []
  }
 ],
 "metadata": {
  "kernelspec": {
   "display_name": "Python 3 (ipykernel)",
   "language": "python",
   "name": "python3"
  },
  "language_info": {
   "codemirror_mode": {
    "name": "ipython",
    "version": 3
   },
   "file_extension": ".py",
   "mimetype": "text/x-python",
   "name": "python",
   "nbconvert_exporter": "python",
   "pygments_lexer": "ipython3",
   "version": "3.9.7"
  }
 },
 "nbformat": 4,
 "nbformat_minor": 5
}
