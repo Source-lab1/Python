{
 "cells": [
  {
   "cell_type": "markdown",
   "id": "885dae37",
   "metadata": {},
   "source": [
    "# What is a function in Python?\n",
    "In Python, a function is a group of related statements that performs a specific task.\n",
    "\n",
    "Functions help break our program into smaller and modular chunks. As our program grows larger and larger, functions make it more organized and manageable.\n",
    "\n",
    "Furthermore, it avoids repetition and makes the code reusable."
   ]
  },
  {
   "cell_type": "markdown",
   "id": "d535e022",
   "metadata": {},
   "source": [
    "We begin with <code>def</code> then a space followed by the name of the function. Try to keep names relevant, for example len() is a good name for a length() function. Also be careful with names, you wouldn't want to call a function the same name as a [built-in function in Python](https://docs.python.org/3.8/library/functions.html) (such as len).\n"
   ]
  },
  {
   "cell_type": "code",
   "execution_count": 1,
   "id": "e821e025",
   "metadata": {},
   "outputs": [],
   "source": [
    "# Syntax for function\n",
    "def function_name(parameters):\n",
    "    \"\"\"\"docstring\"\"\"\n",
    "    statement(s)"
   ]
  },
  {
   "cell_type": "markdown",
   "id": "6f16d0da",
   "metadata": {},
   "source": [
    "Above shown is a function definition that consists of the following components.\n",
    "\n",
    "1. Keyword def that marks the start of the function header.\n",
    "2. A function name to uniquely identify the function. Function naming follows the same rules of writing identifiers in Python.\n",
    "3. Parameters (arguments) through which we pass values to a function. They are optional.\n",
    "4. A colon (:) to mark the end of the function header.\n",
    "5. Optional documentation string (docstring) to describe what the function does.\n",
    "6. One or more valid python statements that make up the function body. Statements must have the same indentation level (usually 4 spaces).\n",
    "7. An optional return statement to return a value from the function."
   ]
  },
  {
   "cell_type": "code",
   "execution_count": null,
   "id": "20e94817",
   "metadata": {},
   "outputs": [],
   "source": [
    "function_name()"
   ]
  },
  {
   "cell_type": "code",
   "execution_count": 2,
   "id": "f783ffd8",
   "metadata": {},
   "outputs": [],
   "source": [
    "def greet(name):\n",
    "    \"\"\"\n",
    "    This function greets to\n",
    "    the person passed in as\n",
    "    a parameter\n",
    "    \"\"\"\n",
    "    print(\"Hello, \" + name + \". Good morning!\")"
   ]
  },
  {
   "cell_type": "code",
   "execution_count": 3,
   "id": "3d9f74b9",
   "metadata": {},
   "outputs": [
    {
     "name": "stdout",
     "output_type": "stream",
     "text": [
      "Hello, Naman. Good morning!\n"
     ]
    }
   ],
   "source": [
    "greet(\"Naman\")"
   ]
  },
  {
   "cell_type": "code",
   "execution_count": null,
   "id": "734a09b2",
   "metadata": {},
   "outputs": [],
   "source": [
    "greet(\"Raman\")"
   ]
  },
  {
   "cell_type": "code",
   "execution_count": null,
   "id": "18652607",
   "metadata": {},
   "outputs": [],
   "source": [
    "name = ['Ram','Sham','Shiv','Ravi']"
   ]
  },
  {
   "cell_type": "code",
   "execution_count": null,
   "id": "8878cdd8",
   "metadata": {},
   "outputs": [],
   "source": [
    "for i in name:\n",
    "    greet(i)"
   ]
  },
  {
   "cell_type": "code",
   "execution_count": 2,
   "id": "9f41234c",
   "metadata": {},
   "outputs": [
    {
     "name": "stdout",
     "output_type": "stream",
     "text": [
      "Hello, Raj. Good morning!\n"
     ]
    }
   ],
   "source": [
    "def greet(name):\n",
    "    \"\"\"\n",
    "    This function greets to\n",
    "    the person passed in as\n",
    "    a parameter\n",
    "    \"\"\"\n",
    "    print(\"Hello, \" + name + \". Good morning!\")\n",
    "    \n",
    "greet(\"Raj\")"
   ]
  },
  {
   "cell_type": "code",
   "execution_count": 3,
   "id": "450cefcc",
   "metadata": {},
   "outputs": [],
   "source": [
    "# function call\n",
    "# greet('Paul')\n",
    "\n",
    "# function definition\n",
    "def greet(name):\n",
    "    \"\"\"\n",
    "    This function greets to\n",
    "    the person passed in as\n",
    "    a parameter\n",
    "    \"\"\"\n",
    "    print(\"Hello, \" + name + \". Good morning!\")\n",
    "\n",
    "# Erro: name 'greet' is not defined"
   ]
  },
  {
   "cell_type": "code",
   "execution_count": 5,
   "id": "37d3f336",
   "metadata": {},
   "outputs": [
    {
     "name": "stdout",
     "output_type": "stream",
     "text": [
      "\n",
      "    This function greets to\n",
      "    the person passed in as\n",
      "    a parameter\n",
      "    \n"
     ]
    }
   ],
   "source": [
    "print(greet.__doc__)"
   ]
  },
  {
   "cell_type": "markdown",
   "id": "28ac400a",
   "metadata": {},
   "source": [
    "# The return statement\n",
    "The return statement is used to exit a function and go back to the place from where it was called."
   ]
  },
  {
   "cell_type": "markdown",
   "id": "9d72ed41",
   "metadata": {},
   "source": [
    "This statement can contain an expression that gets evaluated and the value is returned. If there is no expression in the statement or the return statement itself is not present inside a function, then the function will return the None object."
   ]
  },
  {
   "cell_type": "code",
   "execution_count": 6,
   "id": "aa490252",
   "metadata": {},
   "outputs": [
    {
     "name": "stdout",
     "output_type": "stream",
     "text": [
      "Hello, Jan. Good morning!\n",
      "None\n"
     ]
    }
   ],
   "source": [
    "print(greet(\"Jan\"))"
   ]
  },
  {
   "cell_type": "markdown",
   "id": "88263d46",
   "metadata": {},
   "source": [
    "Here, None is the returned value since greet() directly prints the name and no return statement is used."
   ]
  },
  {
   "cell_type": "code",
   "execution_count": 7,
   "id": "a6b0f4a0",
   "metadata": {},
   "outputs": [
    {
     "name": "stdout",
     "output_type": "stream",
     "text": [
      "2\n",
      "4\n"
     ]
    }
   ],
   "source": [
    "def absolute_value(num):\n",
    "    \"\"\"This function returns the absolute\n",
    "    value of the entered number\"\"\"\n",
    "\n",
    "    if num >= 0:\n",
    "        return num\n",
    "    else:\n",
    "        return -num\n",
    "\n",
    "\n",
    "print(absolute_value(2))\n",
    "\n",
    "print(absolute_value(-4))"
   ]
  },
  {
   "attachments": {
    "image.png": {
     "image/png": "[encoded data removed]"
    }
   },
   "cell_type": "markdown",
   "id": "6ddc0fb6",
   "metadata": {},
   "source": [
    "![image.png](attachment:image.png)"
   ]
  },
  {
   "cell_type": "code",
   "execution_count": null,
   "id": "161ce741",
   "metadata": {},
   "outputs": [],
   "source": [
    "Return  -- Input/ no input\n",
    "No return -- Input/ no input"
   ]
  },
  {
   "cell_type": "code",
   "execution_count": 11,
   "id": "c2c7ad82",
   "metadata": {},
   "outputs": [],
   "source": [
    "def test(x,y):\n",
    "    return \"Hey\""
   ]
  },
  {
   "cell_type": "code",
   "execution_count": 15,
   "id": "a075effb",
   "metadata": {},
   "outputs": [],
   "source": [
    "# test(\"rman\",'y')"
   ]
  },
  {
   "cell_type": "code",
   "execution_count": 16,
   "id": "781440d8",
   "metadata": {},
   "outputs": [],
   "source": [
    "def add():\n",
    "    x= 5\n",
    "    y= 7\n",
    "    print(x+y)"
   ]
  },
  {
   "cell_type": "code",
   "execution_count": 17,
   "id": "8d03c9de",
   "metadata": {},
   "outputs": [
    {
     "name": "stdout",
     "output_type": "stream",
     "text": [
      "12\n"
     ]
    }
   ],
   "source": [
    "add()"
   ]
  },
  {
   "cell_type": "code",
   "execution_count": 18,
   "id": "e918b87e",
   "metadata": {},
   "outputs": [
    {
     "name": "stdout",
     "output_type": "stream",
     "text": [
      "Odd\n"
     ]
    }
   ],
   "source": [
    "n = 5\n",
    "if n%2==0:\n",
    "    print(\"Even\")\n",
    "else:\n",
    "    print(\"Odd\")"
   ]
  },
  {
   "cell_type": "code",
   "execution_count": 19,
   "id": "cb92abe2",
   "metadata": {},
   "outputs": [],
   "source": [
    "def even_odd(n):\n",
    "    if n%2==0:\n",
    "        print(\"Even\")\n",
    "    else:\n",
    "        print(\"Odd\")"
   ]
  },
  {
   "cell_type": "code",
   "execution_count": 20,
   "id": "153124a0",
   "metadata": {},
   "outputs": [
    {
     "name": "stdout",
     "output_type": "stream",
     "text": [
      "Odd\n"
     ]
    }
   ],
   "source": [
    "even_odd(5)"
   ]
  },
  {
   "cell_type": "code",
   "execution_count": 21,
   "id": "2e7e16f5",
   "metadata": {},
   "outputs": [
    {
     "name": "stdout",
     "output_type": "stream",
     "text": [
      "Even\n"
     ]
    }
   ],
   "source": [
    "even_odd(6)"
   ]
  },
  {
   "cell_type": "code",
   "execution_count": 28,
   "id": "780b1e97",
   "metadata": {},
   "outputs": [],
   "source": [
    "def check_even(n):\n",
    "    if n%2==0:\n",
    "        return True\n",
    "    else:\n",
    "        return False"
   ]
  },
  {
   "cell_type": "code",
   "execution_count": 29,
   "id": "ccf92f72",
   "metadata": {},
   "outputs": [
    {
     "data": {
      "text/plain": [
       "False"
      ]
     },
     "execution_count": 29,
     "metadata": {},
     "output_type": "execute_result"
    }
   ],
   "source": [
    "check_even(7)"
   ]
  },
  {
   "cell_type": "code",
   "execution_count": 30,
   "id": "f0be6788",
   "metadata": {},
   "outputs": [],
   "source": [
    "def check_even(n):\n",
    "    if n%2==0:\n",
    "        return True\n",
    "    return False"
   ]
  },
  {
   "cell_type": "code",
   "execution_count": 33,
   "id": "b13aa357",
   "metadata": {},
   "outputs": [
    {
     "data": {
      "text/plain": [
       "True"
      ]
     },
     "execution_count": 33,
     "metadata": {},
     "output_type": "execute_result"
    }
   ],
   "source": [
    "check_even(4)"
   ]
  },
  {
   "cell_type": "code",
   "execution_count": 34,
   "id": "4ae2c9d2",
   "metadata": {},
   "outputs": [],
   "source": [
    "def check_even(n):\n",
    "    return n%2==0"
   ]
  },
  {
   "cell_type": "code",
   "execution_count": 36,
   "id": "52599cce",
   "metadata": {},
   "outputs": [
    {
     "data": {
      "text/plain": [
       "True"
      ]
     },
     "execution_count": 36,
     "metadata": {},
     "output_type": "execute_result"
    }
   ],
   "source": [
    "check_even(4)"
   ]
  },
  {
   "cell_type": "code",
   "execution_count": 1,
   "id": "e5d8d528",
   "metadata": {},
   "outputs": [],
   "source": [
    "# def Primenumber(a):    \n",
    "#     if a > 1:    \n",
    "#         for j in range(2, int(a/2) + 1):    \n",
    "#             if (a % j) == 0:  \n",
    "#                 print(a, \"is not a prime number\")  \n",
    "#                 break   \n",
    "#         else:  \n",
    "#             print(a, \"is a prime number\")\n",
    "            \n",
    "# a = int(input(\"Enter an input number:\"))   \n",
    "# Primenumber(a)"
   ]
  },
  {
   "cell_type": "code",
   "execution_count": 9,
   "id": "212f491c",
   "metadata": {},
   "outputs": [],
   "source": [
    "def is_prime(num):\n",
    "    for n in range(2,num):\n",
    "        if num%n ==0:\n",
    "            print(num, 'not prime')\n",
    "            break\n",
    "    else:\n",
    "        print(num,\"is prime!\")"
   ]
  },
  {
   "cell_type": "code",
   "execution_count": 23,
   "id": "2a5927b3",
   "metadata": {},
   "outputs": [
    {
     "name": "stdout",
     "output_type": "stream",
     "text": [
      "10000169 is prime!\n",
      "10000169 is prime!\n",
      "10000169 is prime!\n",
      "10000169 is prime!\n",
      "10000169 is prime!\n",
      "10000169 is prime!\n",
      "10000169 is prime!\n",
      "10000169 is prime!\n",
      "647 ms ± 63.9 ms per loop (mean ± std. dev. of 7 runs, 1 loop each)\n"
     ]
    }
   ],
   "source": [
    "%timeit is_prime(10000169)"
   ]
  },
  {
   "cell_type": "code",
   "execution_count": 25,
   "id": "a5a778c4",
   "metadata": {},
   "outputs": [],
   "source": [
    "num = 30703\n",
    "def is_prime_1(num):\n",
    "    if num%2 ==0 and num >2:\n",
    "        return False\n",
    "    for i in range(3,int(num**0.5)+1,2):\n",
    "        if num % i ==0:\n",
    "            return False\n",
    "    return True\n"
   ]
  },
  {
   "cell_type": "code",
   "execution_count": 28,
   "id": "e9970bbd",
   "metadata": {},
   "outputs": [
    {
     "name": "stdout",
     "output_type": "stream",
     "text": [
      "107 µs ± 2.13 µs per loop (mean ± std. dev. of 7 runs, 10000 loops each)\n"
     ]
    }
   ],
   "source": [
    "%timeit is_prime_1(10000169)"
   ]
  },
  {
   "cell_type": "code",
   "execution_count": 33,
   "id": "65766f59",
   "metadata": {},
   "outputs": [
    {
     "data": {
      "text/plain": [
       "True"
      ]
     },
     "execution_count": 33,
     "metadata": {},
     "output_type": "execute_result"
    }
   ],
   "source": [
    "is_prime_1(5)"
   ]
  },
  {
   "cell_type": "code",
   "execution_count": 37,
   "id": "6aad4c68",
   "metadata": {},
   "outputs": [
    {
     "name": "stdout",
     "output_type": "stream",
     "text": [
      "Enter a number: 153\n",
      "27 15 3\n",
      "152 1 5\n",
      "153 0 1\n",
      "153\n"
     ]
    }
   ],
   "source": [
    "#armstrong no.\n",
    "num = int(input(\"Enter a number: \"))\n",
    "sum1 = 0\n",
    "d = len(str(num))\n",
    "n=num\n",
    "while n > 0:\n",
    "    r=n%10\n",
    "    sum1=sum1+(r**d)   \n",
    "    n=n//10\n",
    "    print(sum1,n,r)\n",
    "print(num)\n",
    "# if num == sum1:\n",
    "#   print(num,\"is an Armstrong number\")\n",
    "# else:\n",
    "#    print(num,\"is not an Armstrong number\")\n"
   ]
  },
  {
   "cell_type": "code",
   "execution_count": 36,
   "id": "ab85c913",
   "metadata": {},
   "outputs": [
    {
     "data": {
      "text/plain": [
       "0"
      ]
     },
     "execution_count": 36,
     "metadata": {},
     "output_type": "execute_result"
    }
   ],
   "source": [
    "1//10"
   ]
  },
  {
   "cell_type": "code",
   "execution_count": null,
   "id": "557c4b92",
   "metadata": {},
   "outputs": [],
   "source": []
  }
 ],
 "metadata": {
  "kernelspec": {
   "display_name": "Python 3 (ipykernel)",
   "language": "python",
   "name": "python3"
  },
  "language_info": {
   "codemirror_mode": {
    "name": "ipython",
    "version": 3
   },
   "file_extension": ".py",
   "mimetype": "text/x-python",
   "name": "python",
   "nbconvert_exporter": "python",
   "pygments_lexer": "ipython3",
   "version": "3.9.7"
  }
 },
 "nbformat": 4,
 "nbformat_minor": 5
}
